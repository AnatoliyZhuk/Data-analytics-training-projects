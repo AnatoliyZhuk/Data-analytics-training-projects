{
  "nbformat": 4,
  "nbformat_minor": 0,
  "metadata": {
    "colab": {
      "name": "GetTaxi.ipynb",
      "provenance": [],
      "authorship_tag": "ABX9TyPaXOENb4Lk9HJS0K505rRd",
      "include_colab_link": true
    },
    "kernelspec": {
      "name": "python3",
      "display_name": "Python 3"
    },
    "language_info": {
      "name": "python"
    }
  },
  "cells": [
    {
      "cell_type": "markdown",
      "metadata": {
        "id": "view-in-github",
        "colab_type": "text"
      },
      "source": [
        "<a href=\"https://colab.research.google.com/github/AnatoliyZhuk/Data-analytics-training-projects/blob/main/Get_Taxi_Project/GetTaxi.ipynb\" target=\"_parent\"><img src=\"https://colab.research.google.com/assets/colab-badge.svg\" alt=\"Open In Colab\"/></a>"
      ]
    },
    {
      "cell_type": "markdown",
      "source": [
        "Тестовое задание в команду продуктовой аналитики GetTaxi <br/>"
      ],
      "metadata": {
        "id": "wcu7wkeCEabo"
      }
    },
    {
      "cell_type": "markdown",
      "source": [
        "**data_orders** - выборка данных по заказам пользователей:\n",
        "* order_datetime -  время заказа\n",
        "* origin_longitude - долгота\n",
        "* origin_latitude - широта\n",
        "* m_order_eta - время до прибытия машины\n",
        "* order_gk - номер заказа\n",
        "* order_status_key - статус (4 - отменен клиентом, 9 - отменен системой (reject))\n",
        "* is_driver_assigned_key - был ли назначен водитель\n",
        "* cancellations_time_in_seconds - сколько секунд прошло до отмены\n",
        "\n",
        "data_offers - содержит пары номер заказа - ID оффера, который был предложен водителю по данному заказу."
      ],
      "metadata": {
        "id": "HfoVMcE9EuHC"
      }
    },
    {
      "cell_type": "markdown",
      "source": [
        "Если необходимо подгрузить данные с GitHub можно использовать команду <br/>"
      ],
      "metadata": {
        "id": "f7muIitHFRBh"
      }
    },
    {
      "cell_type": "code",
      "execution_count": null,
      "metadata": {
        "id": "JWl3EtgJD0DJ"
      },
      "outputs": [],
      "source": [
        "! wget https://github.com/slgero/testovoe/raw/master/Gett/data/data_offers.csv"
      ]
    }
  ]
}